{
  "nbformat": 4,
  "nbformat_minor": 0,
  "metadata": {
    "colab": {
      "provenance": []
    },
    "kernelspec": {
      "name": "python3",
      "display_name": "Python 3"
    },
    "language_info": {
      "name": "python"
    }
  },
  "cells": [
    {
      "cell_type": "markdown",
      "source": [
        "STEP 1: Import OpenStack data from Opendev. The output is a list of JSON files"
      ],
      "metadata": {
        "id": "wM6xcZ_71uLY"
      }
    },
    {
      "cell_type": "code",
      "execution_count": null,
      "metadata": {
        "id": "88wOq7gIX6Ll"
      },
      "outputs": [],
      "source": [
        "import pandas as pd\n",
        "import numpy as np\n",
        "import json\n",
        "import requests\n",
        "from pathlib import Path\n",
        "import pandas as pd\n",
        "from itertools import count\n",
        "\n",
        "def GetData(skip): \n",
        "    params = {\n",
        "        'O': 97,\n",
        "        'n': skip,\n",
        "        #'S': skip\n",
        "        'S': skip*500\n",
        "        }\n",
        "    response = requests.get(\"https://review.opendev.org/changes/?q=status:merged repositories:openstack&o=CURRENT_FILES&o=MESSAGES&o=CURRENT_COMMIT&o=CURRENT_REVISION\", params=params)\n",
        "    \n",
        "    data_per_request = response.text.split(\"\\n\")[1]\n",
        "    data_per_request = np.array(json.loads(data_per_request))\n",
        "    \n",
        "    if len(data_per_request) > 0: \n",
        "\n",
        "       skip += 1 \n",
        "       filename = 'data_%d.json'%(skip,)\n",
        "       pd.Series(data_per_request).to_json(filename, orient='records') \n",
        "       GetData(skip)  \n",
        "    \n",
        "if __name__ == '__main__':   \n",
        "   skip = 0\n",
        "   GetData(skip) \n",
        "   "
      ]
    },
    {
      "cell_type": "markdown",
      "source": [
        "STEP 2: Merge all JSON files into one"
      ],
      "metadata": {
        "id": "YL8sgOk0o5jt"
      }
    },
    {
      "cell_type": "code",
      "source": [
        "import os\n",
        "files =[]\n",
        "for file in os.listdir(\"/content\"):\n",
        "    if file.endswith(\".json\"):\n",
        "        files.append(os.path.join(\"/content\", file))\n",
        "        #print(os.path.join(\"/content\", file))\n",
        "\n",
        "def merge_JsonFiles(filename):\n",
        "    result = list()\n",
        "    for f1 in filename:\n",
        "        with open(f1, 'r') as infile:\n",
        "            result.extend(json.load(infile))\n",
        "\n",
        "    with open('/content/FINALJSON.json', 'w') as output_file:\n",
        "        json.dump(result, output_file)\n",
        "\n",
        "merge_JsonFiles(files)"
      ],
      "metadata": {
        "id": "q_eMF2ud2Qr4"
      },
      "execution_count": 5,
      "outputs": []
    },
    {
      "cell_type": "code",
      "source": [
        "\n",
        "\n",
        "with open('/content/FINALJSON.json','r') as string:\n",
        "    my_dict=json.load(string)\n",
        "    #print(my_dict[5])\n",
        "string.close()\n",
        "\n",
        "for x in my_dict:\n",
        "\t\tkeys = x.keys()\n",
        "\t\tprint(keys)\n",
        "\t\tvalues = x.values()\n",
        "\t\tprint(values)\n"
      ],
      "metadata": {
        "id": "SwWN4achUkLH"
      },
      "execution_count": null,
      "outputs": []
    },
    {
      "cell_type": "code",
      "source": [
        "df = pd.DataFrame(my_dict)\n",
        "#Save the data in a CSV file\n",
        "\n",
        "filepath = Path('./openstack_data.csv')  \n",
        "filepath.parent.mkdir(parents=True, exist_ok=True)  \n",
        "df.to_csv(filepath, index=False)\n",
        "\n",
        "df"
      ],
      "metadata": {
        "id": "rJ6xHLoM3ws_"
      },
      "execution_count": null,
      "outputs": []
    },
    {
      "cell_type": "markdown",
      "source": [
        "##Put messages in single csv for each code review"
      ],
      "metadata": {
        "id": "XFx0Elj2uEJp"
      }
    },
    {
      "cell_type": "code",
      "source": [
        "pd.Series(df['messages']).to_json(\"./messages.json\", orient='records')"
      ],
      "metadata": {
        "id": "nwMGca7XuJzK"
      },
      "execution_count": null,
      "outputs": []
    },
    {
      "cell_type": "code",
      "source": [
        "Msg_data=[]\n",
        "with open('./messages.json', 'r') as f:\n",
        "    distros_dict = json.load(f)\n",
        "for distro in distros_dict:\n",
        "    #print(distro)\n",
        "    # we do not consider CC reviewers as are bots\n",
        "    #print(distro['CC'])\n",
        "    for x in distro:\n",
        "\t\t    #print(x.keys(), x.values())\n",
        "\t      #print(list(x.keys()))\n",
        "        #print(list(x.values()))\n",
        "\t\t\t  Msg_data.append(list(x.values()))\n",
        "Msg_data\t\t "
      ],
      "metadata": {
        "id": "2DMuos77uJzL"
      },
      "execution_count": null,
      "outputs": []
    },
    {
      "cell_type": "code",
      "source": [
        "\n",
        "dfM = pd.DataFrame(Msg_data)\n",
        "#Save the data in a CSV file\n",
        "dfM.columns = ['id', 'tag', 'author', 'real_author', 'date', 'message', 'accounts_in_message', '_revision_number']\n",
        "filepath = Path('./openstack_data_Messages.csv')  \n",
        "filepath.parent.mkdir(parents=True, exist_ok=True)  \n",
        "dfM.to_csv(filepath, index=False)\n",
        "\n",
        "dfM"
      ],
      "metadata": {
        "id": "nObBEjKpxMWR"
      },
      "execution_count": null,
      "outputs": []
    },
    {
      "cell_type": "markdown",
      "source": [
        "## Get the reviewers count for each code review with their usernames"
      ],
      "metadata": {
        "id": "D6mCpHiE1FsC"
      }
    },
    {
      "cell_type": "code",
      "source": [
        "print(df['reviewers'])"
      ],
      "metadata": {
        "id": "4OAs31xoVOfB"
      },
      "execution_count": null,
      "outputs": []
    },
    {
      "cell_type": "code",
      "source": [
        "pd.Series(df['reviewers']).to_json(\"./Reviewers.json\", orient='records')"
      ],
      "metadata": {
        "id": "oxSYncjRVkPr"
      },
      "execution_count": null,
      "outputs": []
    },
    {
      "cell_type": "code",
      "source": [
        "Rev_data=[]\n",
        "with open('./Reviewers.json','r') as string:\n",
        "    Rev_dict=json.load(string)\n",
        "    print(Rev_dict[5])\n",
        "string.close()\n",
        "\n",
        "for x in Rev_dict:\n",
        "\t\t#keys = x.keys()\n",
        "\t\t#print(keys)\n",
        "\t\t#values = x.values()\n",
        "\t\t#print(values)\n",
        "    Rev_data.append(list(x.values()))\n",
        "Rev_data"
      ],
      "metadata": {
        "id": "sG_H12SIV3VE"
      },
      "execution_count": null,
      "outputs": []
    },
    {
      "cell_type": "code",
      "source": [
        "## Extract number of reviewers \n",
        "Nb_Reviewers=[]\n",
        "nb=0\n",
        "flat_list = [item for sublist in Rev_data for item in sublist]\n",
        "for r in flat_list:\n",
        "  #print(r)\n",
        "  nb=0\n",
        "  for r1 in r:\n",
        "    #print(r1)\n",
        "    #print(list(r1.keys()))\n",
        "    count_reviewer = list(r1.keys()).count('_account_id')\n",
        "    nb=nb+count_reviewer\n",
        "  Nb_Reviewers.append(nb)\n",
        "Nb_Reviewers "
      ],
      "metadata": {
        "id": "0tVO2nXD15dJ"
      },
      "execution_count": null,
      "outputs": []
    },
    {
      "cell_type": "code",
      "source": [
        "## Extract names of reviewers \n",
        "list_intermediare=[]\n",
        "Names_Reviewers=[]\n",
        "flat_list = [item for sublist in Rev_data for item in sublist]\n",
        "for r in flat_list:\n",
        "  #print(r)\n",
        "  \n",
        "  for r1 in r:\n",
        "    #print(r1)\n",
        "    #print(list(r1.keys()))\n",
        "    #print(list(r1.values())[3])\n",
        "    name= list(r1.values())[1]\n",
        "    print(name)\n",
        "    list_intermediare.append(name)\n",
        "  print(list_intermediare)\n",
        "  Names_Reviewers.append(list_intermediare) \n",
        "  print(Names_Reviewers)\n",
        "  list_intermediare.clear()\n",
        "  print(list_intermediare)\n",
        "  \n",
        "#Names_Reviewers "
      ],
      "metadata": {
        "id": "mIxs0jch7g5t"
      },
      "execution_count": null,
      "outputs": []
    },
    {
      "cell_type": "code",
      "source": [
        "Rev_data=[]\n",
        "with open('./Reviewers.json', 'r') as f:\n",
        "    distros_dict = json.load(f)\n",
        "for distro in distros_dict:\n",
        "    #print(distro['REVIEWER'])\n",
        "    # we do not consider CC reviewers as are bots\n",
        "    #print(distro['CC'])\n",
        "    Rev_data.append(distro['REVIEWER'])\n",
        "    for x in distro['REVIEWER']:\n",
        "\t\t  \n",
        "\t\t    print(x.keys(), x.values())\n",
        "\t\t\n",
        "\t\t"
      ],
      "metadata": {
        "id": "uhyGLHeiW732"
      },
      "execution_count": null,
      "outputs": []
    },
    {
      "cell_type": "code",
      "source": [
        "\n",
        "df = pd.DataFrame(distro['REVIEWER'])\n",
        "#Save the data in a CSV file\n",
        "\n",
        "filepath = Path('./openstack_data_reviewers.csv')  \n",
        "filepath.parent.mkdir(parents=True, exist_ok=True)  \n",
        "df.to_csv(filepath, index=False)\n",
        "\n",
        "df"
      ],
      "metadata": {
        "id": "qhsugow6fGH4"
      },
      "execution_count": null,
      "outputs": []
    }
  ]
}
